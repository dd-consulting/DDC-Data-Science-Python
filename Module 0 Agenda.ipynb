{
 "cells": [
  {
   "cell_type": "markdown",
   "metadata": {},
   "source": [
    "<div class=\"alert alert-block alert-info\" style=\"margin-top: 20px\">\n",
    "    <a href=\"\">\n",
    "         <img src=\"\" width=\"750\" align=\"center\">\n",
    "    </a>\n",
    "</div>\n"
   ]
  },
  {
   "cell_type": "markdown",
   "metadata": {},
   "source": [
    "<h1 align=center><font size = 9>Data Science with Python</font></h1>"
   ]
  },
  {
   "cell_type": "markdown",
   "metadata": {},
   "source": [
    "\n",
    "<img src=\"reference/0.0 Agenda.jpg\" align=\"center\">\n"
   ]
  },
  {
   "cell_type": "markdown",
   "metadata": {},
   "source": [
    "<div class=\"alert alert-block alert-info\" style=\"margin-top: 20px\">\n",
    "    <a href=\"\">\n",
    "         <img src=\"\" width=\"750\" align=\"center\">\n",
    "    </a>\n",
    "</div>\n"
   ]
  },
  {
   "cell_type": "markdown",
   "metadata": {},
   "source": [
    "<h1 align=center><font size = 9>How much would you sell / buy this car?</font></h1>"
   ]
  },
  {
   "cell_type": "markdown",
   "metadata": {},
   "source": [
    "\n",
    "<img src=\"reference/1.0 Introduction.png\" align=\"center\">\n"
   ]
  },
  {
   "cell_type": "markdown",
   "metadata": {},
   "source": [
    "<div class=\"alert alert-block alert-info\" style=\"margin-top: 20px\">\n",
    "    <a href=\"\">\n",
    "         <img src=\"\" width=\"750\" align=\"center\">\n",
    "    </a>\n",
    "</div>\n"
   ]
  },
  {
   "cell_type": "markdown",
   "metadata": {},
   "source": [
    "<h1>LEARNING OBJECTIVES</h1>\n",
    "<h3>In this course you will learn about:</h3>\n",
    "\n",
    "\n",
    "•\tData Acquisition \n",
    "\n",
    "•\tHow to Obtain Basic Insight From a Dataset \n",
    "\n",
    "•\tData Wrangling \n",
    "\n",
    "•\tExploratory Data Analysis \n",
    "\n",
    "•\tModel Development \n",
    "\n",
    "•\tModel Evaluation \n"
   ]
  },
  {
   "cell_type": "markdown",
   "metadata": {},
   "source": [
    "<div class=\"alert alert-block alert-info\" style=\"margin-top: 20px\">\n",
    "    <a href=\"\">\n",
    "         <img src=\"\" width=\"750\" align=\"center\">\n",
    "    </a>\n",
    "</div>\n"
   ]
  },
  {
   "cell_type": "markdown",
   "metadata": {},
   "source": [
    "<h1>AGENDA</h1>"
   ]
  },
  {
   "cell_type": "markdown",
   "metadata": {},
   "source": [
    "\n",
    "<h3>Module 1 - Introduction</h3>\n",
    "\n",
    "1.1\tLearning Objectives\n",
    "\n",
    "1.2\tUnderstanding the Domain\n",
    "\n",
    "1.3\tUnderstanding the  Dataset\n",
    "\n",
    "1.4\tPython package for data science\n",
    "\n",
    "1.5\tImporting and Exporting Data in Python\n",
    "\n",
    "1.6\tBasic Insights from Datasets\n",
    "\n",
    "1.7\tWorkshop 1\n",
    "\n"
   ]
  },
  {
   "cell_type": "markdown",
   "metadata": {},
   "source": [
    "\n",
    "<h3>Module 2 - Data Wrangling</h3>\n",
    "\n",
    "2.1\tIdentify and Handle Missing Values\n",
    "\n",
    "2.2\tData Formatting\n",
    "\n",
    "2.3\tData Normalization\n",
    "\n",
    "2.4\tBinning\n",
    "\n",
    "2.5\tIndicator variables\n",
    "\n",
    "2.6\tWorkshop 2\n",
    "\n"
   ]
  },
  {
   "cell_type": "markdown",
   "metadata": {},
   "source": [
    "\n",
    "<h3>Module 3 -  Exploratory Data Analysis</h3>\n",
    "\n",
    "3.1\tDescriptive Statistics\n",
    "\n",
    "3.2\tBasic of Grouping\n",
    "\n",
    "3.3\tANOVA (Analysis of variance)\n",
    "\n",
    "3.4\tCorrelation\n",
    "\n",
    "3.5\tCorrelation 2 \n",
    "\n",
    "3.6\tWorkshop 3\n",
    "\n"
   ]
  },
  {
   "cell_type": "markdown",
   "metadata": {},
   "source": [
    "\n",
    "<h3>Module 4 - Model Development</h3>\n",
    "\n",
    "4.1\tSimple and Multiple Linear Regression\n",
    "\n",
    "4.2\tModel Evaluation using Visualization\n",
    "\n",
    "4.3\tPolynomial Regression and Pipelines\n",
    "\n",
    "4.4\tR-squared and MSE for In-Sample Evaluation\n",
    "\n",
    "4.5\tPrediction and Decision Making \n",
    "\n",
    "4.6\tWorkshop 4\n"
   ]
  },
  {
   "cell_type": "markdown",
   "metadata": {},
   "source": [
    "\n",
    "<h3>Module 5 - Working with Data in Python</h3>\n",
    "\n",
    "5.1\tModel  Evaluation\n",
    "\n",
    "5.2\tOver Fitting, Under fitting and Model Selection \n",
    "\n",
    "5.3\tRidge Regression\n",
    "\n",
    "5.4\tGrid Search \n",
    "\n",
    "5.5\tModel Refinement \n",
    "\n",
    "5.6\tWorkshop 5\n"
   ]
  },
  {
   "cell_type": "markdown",
   "metadata": {},
   "source": [
    "<div class=\"alert alert-block alert-info\" style=\"margin-top: 20px\">\n",
    "    <a href=\"\">\n",
    "         <img src=\"\" width=\"750\" align=\"center\">\n",
    "    </a>\n",
    "</div>\n"
   ]
  },
  {
   "cell_type": "markdown",
   "metadata": {},
   "source": [
    "<hr>\n"
   ]
  }
 ],
 "metadata": {
  "anaconda-cloud": {},
  "kernelspec": {
   "display_name": "Python 3",
   "language": "python",
   "name": "python3"
  },
  "language_info": {
   "codemirror_mode": {
    "name": "ipython",
    "version": 3
   },
   "file_extension": ".py",
   "mimetype": "text/x-python",
   "name": "python",
   "nbconvert_exporter": "python",
   "pygments_lexer": "ipython3",
   "version": "3.6.4"
  }
 },
 "nbformat": 4,
 "nbformat_minor": 2
}
